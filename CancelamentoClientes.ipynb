{
  "nbformat": 4,
  "nbformat_minor": 0,
  "metadata": {
    "colab": {
      "provenance": [],
      "authorship_tag": "ABX9TyMNxqlXEXmpD+4QjxId3oBr",
      "include_colab_link": true
    },
    "kernelspec": {
      "name": "python3",
      "display_name": "Python 3"
    },
    "language_info": {
      "name": "python"
    }
  },
  "cells": [
    {
      "cell_type": "markdown",
      "metadata": {
        "id": "view-in-github",
        "colab_type": "text"
      },
      "source": [
        "<a href=\"https://colab.research.google.com/github/flaviabiaty/analise_cancelamento/blob/main/CancelamentoClientes.ipynb\" target=\"_parent\"><img src=\"https://colab.research.google.com/assets/colab-badge.svg\" alt=\"Open In Colab\"/></a>"
      ]
    },
    {
      "cell_type": "markdown",
      "source": [
        "**Projeto de Análise de Cancelamento de Clientes**\n",
        "\n",
        "Análise de uma base de dados de clientes para verificar o percentual de cancelamentos."
      ],
      "metadata": {
        "id": "YGfQtWeEhxAR"
      }
    },
    {
      "cell_type": "markdown",
      "source": [
        "###Importação e tratamento dos dados"
      ],
      "metadata": {
        "id": "PHmWjUo_kx0e"
      }
    },
    {
      "cell_type": "code",
      "execution_count": null,
      "metadata": {
        "id": "fBMUBSmehf9P"
      },
      "outputs": [],
      "source": [
        "import pandas as pd"
      ]
    },
    {
      "cell_type": "code",
      "source": [
        "df = pd.read_csv(\"https://raw.githubusercontent.com/flaviabiaty/analise_cancelamento/refs/heads/main/cancelamentos_sample.csv\")\n",
        "df.head()"
      ],
      "metadata": {
        "id": "HjF6qB1QhvgZ"
      },
      "execution_count": null,
      "outputs": []
    },
    {
      "cell_type": "markdown",
      "source": [
        "**INFORMAÇÕES DA BASE DE DADOS - CLIENTES**\n",
        "\n",
        " - Idade\n",
        " - Sexo – Masculino e Feminino\n",
        " - Tempo_como_cliente\n",
        " - Frequencia_uso –  A frequência de uso desse cliente\n",
        " - Ligacoes_callcenter – Quantas vezes o cliente ligou ao Call Center da empresa\n",
        " - Dias_atraso – Dias em que o cliente esteve em atraso\n",
        " - Assinatura – O plano que o cliente possui\n",
        " - Duracao_contrato – Tempo de duração do contrato (Mensal, Trimestral e  Anual)\n",
        " - Total_gasto Meses_ultima_interação – Meses desde a última\n",
        "   interação do cliente\n",
        " - Cancelou – Se o cliente cancelou (1) ou não (0) sua assinatura"
      ],
      "metadata": {
        "id": "EN7DCRGPiRUG"
      }
    },
    {
      "cell_type": "code",
      "source": [
        "#remover a coluna CustomerID\n",
        "df = df.drop('CustomerID', axis=1)\n",
        "display(df)"
      ],
      "metadata": {
        "id": "ZIwbqayrjPzJ"
      },
      "execution_count": null,
      "outputs": []
    },
    {
      "cell_type": "code",
      "source": [
        "df.info()"
      ],
      "metadata": {
        "id": "4QebX5I8iLL-"
      },
      "execution_count": null,
      "outputs": []
    },
    {
      "cell_type": "code",
      "source": [
        "#campos vazios:\n",
        "df.isnull().sum()"
      ],
      "metadata": {
        "id": "3ZaG_6fAj9z_"
      },
      "execution_count": null,
      "outputs": []
    },
    {
      "cell_type": "code",
      "source": [
        "linhas_excluir = df[df.isnull().any(axis=1)]\n",
        "linhas_excluir"
      ],
      "metadata": {
        "id": "YxqXFipWkZ8Z"
      },
      "execution_count": null,
      "outputs": []
    },
    {
      "cell_type": "code",
      "source": [
        "#remoção das linhas com informações em branco\n",
        "df = df.dropna()\n",
        "df.info()"
      ],
      "metadata": {
        "id": "ZjyIzclsjleW"
      },
      "execution_count": null,
      "outputs": []
    },
    {
      "cell_type": "markdown",
      "source": [
        "###Análise dos dados"
      ],
      "metadata": {
        "id": "9PmFuNbxlbW_"
      }
    },
    {
      "cell_type": "markdown",
      "source": [
        "Qual o índice de cancelamento dos clientes?"
      ],
      "metadata": {
        "id": "J5VTT-L_n4mL"
      }
    },
    {
      "cell_type": "code",
      "source": [
        "print(f'Dos {df.shape[0]} clientes na base, {(df[\"cancelou\"]==1.0).sum()} cancelaram. Isso representa {((df[\"cancelou\"]==1.0).sum()/df.shape[0]*100):.2f}%.')"
      ],
      "metadata": {
        "id": "qR07p5JPni2y"
      },
      "execution_count": null,
      "outputs": []
    },
    {
      "cell_type": "markdown",
      "source": [
        "Qual a duração dos contratos dos clientes?"
      ],
      "metadata": {
        "id": "zXbdE0mQnzTR"
      }
    },
    {
      "cell_type": "code",
      "source": [
        "df['duracao_contrato'].value_counts(normalize=True).map('{:.1%}'.format)"
      ],
      "metadata": {
        "id": "0JoiLQ3ToGM4"
      },
      "execution_count": null,
      "outputs": []
    },
    {
      "cell_type": "code",
      "source": [
        "#analisando os contratos mensais\n",
        "df.groupby('duracao_contrato').mean(numeric_only=True)"
      ],
      "metadata": {
        "id": "xQ-TQIuZop0X"
      },
      "execution_count": null,
      "outputs": []
    },
    {
      "cell_type": "markdown",
      "source": [
        "⚡Observa-se que a média de cancelamento dos planos mensais é 1, portanto todos os clientes com planos mensais cancelaram o serviço"
      ],
      "metadata": {
        "id": "BlNtBvmcpCmS"
      }
    },
    {
      "cell_type": "code",
      "source": [
        "#desconsiderando os planos mensais:\n",
        "df = df[df['duracao_contrato']!='Monthly']\n",
        "df['cancelou'].value_counts(normalize=True).map('{:.1%}'.format)"
      ],
      "metadata": {
        "id": "Mc6siJ0LqvFl"
      },
      "execution_count": null,
      "outputs": []
    },
    {
      "cell_type": "markdown",
      "source": [
        "⚡Se desconsiderarmos os planos mensais, a taxa de cancelamento cai para 46,1%"
      ],
      "metadata": {
        "id": "ZYGB8V3TrATk"
      }
    },
    {
      "cell_type": "markdown",
      "source": [
        "Qual o tipo de assinatura que os clientes realizam?"
      ],
      "metadata": {
        "id": "u9Ztl3J5rhSu"
      }
    },
    {
      "cell_type": "code",
      "source": [
        "display(df['assinatura'].value_counts(normalize=True).map('{:.1%}'.format))\n",
        "display(df.groupby('assinatura').mean(numeric_only=True))"
      ],
      "metadata": {
        "id": "9ZhRNpb-rWO8"
      },
      "execution_count": null,
      "outputs": []
    },
    {
      "cell_type": "markdown",
      "source": [
        "Os perfis são muito parecidos nos três tipos de assinatura, então esta variável não é tão relevante pra análise"
      ],
      "metadata": {
        "id": "q7GhvBWXsAIL"
      }
    },
    {
      "cell_type": "code",
      "source": [
        "import plotly.express as px"
      ],
      "metadata": {
        "id": "zs3tGE3xscEF"
      },
      "execution_count": null,
      "outputs": []
    },
    {
      "cell_type": "code",
      "source": [
        "#criação de histogramas para todas as colunas em relação ao cancelamento.\n",
        "for coluna in df.columns:\n",
        "  grafico = px.histogram(df, x=coluna, color='cancelou')\n",
        "  grafico.show()"
      ],
      "metadata": {
        "id": "HAndmbrlsdpg"
      },
      "execution_count": null,
      "outputs": []
    },
    {
      "cell_type": "markdown",
      "source": [
        "⚡clientes com mais de 20 dias de atraso cancelaram\n",
        "\n",
        "⚡clientes com mais de 5 ligações ao call center cancelaram"
      ],
      "metadata": {
        "id": "iyMu8FQgtgEE"
      }
    },
    {
      "cell_type": "code",
      "source": [
        "#desconsiderando os fatores críticos apontados acima:\n",
        "df = df[df['ligacoes_callcenter']<5]\n",
        "df = df[df['dias_atraso']<=20]\n",
        "df['cancelou'].value_counts(normalize=True).map('{:.1%}'.format)\n"
      ],
      "metadata": {
        "id": "EKzHJgg8tfrt"
      },
      "execution_count": null,
      "outputs": []
    },
    {
      "cell_type": "markdown",
      "source": [
        "Taxa inicial de cancelamento: **56,7%**\n",
        "\n",
        "primeiro problema identificado - *planos mensais.*\n",
        "\n",
        "Se descartarmos esse tipo de plano, a taxa de cancelamento cairia para: **46,1%**\n",
        "\n",
        "segundo problema identificado - *ligações no call center por mais de 5 vezes*\n",
        "\n",
        "terceiro problema identificado - *clientes com mais de 20 dias de atraso*\n",
        "\n",
        "Descartando esses perfis de clientes, a taxa iria para **18,4%**"
      ],
      "metadata": {
        "id": "DtqJ5X-pumnX"
      }
    },
    {
      "cell_type": "markdown",
      "source": [
        "Outros fatores identificados na análise dos gráficos:"
      ],
      "metadata": {
        "id": "9iY22Dwhx3Au"
      }
    },
    {
      "cell_type": "markdown",
      "source": [
        "⚡clientes com mais de 50 anos cancelaram"
      ],
      "metadata": {
        "id": "4dxIghIrv2OG"
      }
    },
    {
      "cell_type": "code",
      "source": [
        "#desconsiderando os fatores críticos apontados acima:\n",
        "df = df[df['idade']<50]\n",
        "df['cancelou'].value_counts(normalize=True).map('{:.1%}'.format)"
      ],
      "metadata": {
        "id": "YvnE-zlgv5qx"
      },
      "execution_count": null,
      "outputs": []
    },
    {
      "cell_type": "markdown",
      "source": [
        "⚡clientes que gastam menos de R$500 cancelaram"
      ],
      "metadata": {
        "id": "6Jqlu2EVwYGm"
      }
    },
    {
      "cell_type": "code",
      "source": [
        "#desconsiderando os fatores críticos apontados acima:\n",
        "df = df[df['total_gasto']>500]\n",
        "df['cancelou'].value_counts(normalize=True).map('{:.1%}'.format)"
      ],
      "metadata": {
        "id": "indqfkgBwKjf"
      },
      "execution_count": null,
      "outputs": []
    },
    {
      "cell_type": "markdown",
      "source": [
        "Alguns fatores, como valor gasto, podem não fazer sentido de serem excluídos da base."
      ],
      "metadata": {
        "id": "ZyaY80SWwsXq"
      }
    },
    {
      "cell_type": "markdown",
      "source": [
        "## Possíveis soluções para redução da taxa de cancelamento\n",
        "\n",
        "Desconto nos planos trimestral e anual, uma vez que todos os clientes do contrato mensal cancelaram\n",
        "\n",
        "Criação de um alerta quando o cliente ligar a 3ª vez pro callcenter\n",
        "\n",
        "Criação de um alerta pro time de cobrança quando o cliente bater 10 dias de atraso.\n",
        "\n",
        "**Resolvendo esses fatores, pode ser obtida uma meta de 20% de cancelamento, muito melhor que os 50% iniciais**"
      ],
      "metadata": {
        "id": "P4so579fxCso"
      }
    }
  ]
}